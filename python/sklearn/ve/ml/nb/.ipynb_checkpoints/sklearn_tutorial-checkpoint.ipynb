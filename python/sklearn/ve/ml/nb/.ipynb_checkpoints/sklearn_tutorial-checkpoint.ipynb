{
 "cells": [
  {
   "cell_type": "markdown",
   "metadata": {},
   "source": [
    "# **Scikit Learn Tutorial**"
   ]
  },
  {
   "cell_type": "code",
   "execution_count": 61,
   "metadata": {},
   "outputs": [],
   "source": [
    "#Import necessary modules\n",
    "import numpy as np\n",
    "import pandas as pd\n",
    "import os\n",
    "import tables\n",
    "import sklearn as sk\n",
    "from sklearn import tree"
   ]
  },
  {
   "cell_type": "code",
   "execution_count": 62,
   "metadata": {},
   "outputs": [
    {
     "name": "stdout",
     "output_type": "stream",
     "text": [
      "sig test data:     134 cols, 710948 rows\n",
      "sig training data: 134 cols, 710948 rows\n",
      "bg test data:      123 cols, 3884472 rows\n",
      "bg training data:  123 cols, 3884472 rows\n"
     ]
    }
   ],
   "source": [
    "#import necessary data\n",
    "datafolder = '/home/relethford/ve/ml/data/nu_anis/2013/'\n",
    "sig_test = tables.open_file(datafolder+'test_sig.ds.hdf5')\n",
    "sig_train = tables.open_file(datafolder+'train_sig.ds.hdf5')\n",
    "bg_test = tables.open_file(datafolder+'test_data.ds.hdf5')\n",
    "bg_train = tables.open_file(datafolder+'train_data.ds.hdf5')\n",
    "#print shape of each set\n",
    "print('sig test data:     {} cols, {} rows'.format(len(sig_test.root.table.colnames),len(sig_test.root.table.cols.zen)))\n",
    "print('sig training data: {} cols, {} rows'.format(len(sig_train.root.table.colnames),len(sig_train.root.table.cols.zen)))\n",
    "print('bg test data:      {} cols, {} rows'.format(len(bg_test.root.table.colnames),len(bg_test.root.table.cols.zen)))\n",
    "print('bg training data:  {} cols, {} rows'.format(len(bg_train.root.table.colnames),len(bg_train.root.table.cols.zen)))"
   ]
  },
  {
   "cell_type": "code",
   "execution_count": 63,
   "metadata": {},
   "outputs": [],
   "source": [
    "#Let's set up a fcn that grabs a given variable from a given dataset, but only out to N events.\n",
    "N = 1000\n",
    "def getValue(colName, datafile):\n",
    "  value = datafile.get_node('/','table').col(colName)[0:N]\n",
    "  return np.array(list(value))"
   ]
  },
  {
   "cell_type": "code",
   "execution_count": 64,
   "metadata": {},
   "outputs": [],
   "source": [
    "#Make an array for each of the for data sets, each having the variables we want to investigate.\n",
    "def varStack(tuple_vars):\n",
    "    return np.vstack(tuple_vars).T"
   ]
  },
  {
   "cell_type": "code",
   "execution_count": 65,
   "metadata": {},
   "outputs": [],
   "source": [
    "#For now, we'll take two variables. Lizz says these two (bayes_rat, cog_z) have greatest separation power.\n",
    "#Add a target for each point - for bg, 0, for sig, 1.\n",
    "s_test  = varStack((getValue('bayes_rat', sig_test),getValue('cog_z', sig_test),np.ones(N)))\n",
    "s_train = varStack((getValue('bayes_rat', sig_train),getValue('cog_z', sig_train),np.ones(N)))\n",
    "b_test   = varStack((getValue('bayes_rat', bg_test),getValue('cog_z', bg_test),np.zeros(N)))\n",
    "b_train  = varStack((getValue('bayes_rat', bg_train),getValue('cog_z', bg_train),np.zeros(N)))\n",
    "#Note - THIS is the part where the code stalls like crazy. Either need to figure out how to only access SOME of the data...\n",
    "#...or else chop it up ahead of time."
   ]
  },
  {
   "cell_type": "code",
   "execution_count": 55,
   "metadata": {},
   "outputs": [
    {
     "name": "stdout",
     "output_type": "stream",
     "text": [
      "[[  20.08934919  105.95520231]\n",
      " [  25.3983473    65.84812408]\n",
      " [  64.54650211 -327.96772998]\n",
      " ...\n",
      " [  25.46324566  180.05755888]\n",
      " [  21.22720683  176.50538557]\n",
      " [  31.87049904  273.4760307 ]]\n",
      "(1000, 2)\n"
     ]
    }
   ],
   "source": [
    "print(s_test)\n",
    "print(np.shape(s_test))"
   ]
  },
  {
   "cell_type": "code",
   "execution_count": null,
   "metadata": {},
   "outputs": [],
   "source": []
  }
 ],
 "metadata": {
  "kernelspec": {
   "display_name": "Python 3",
   "language": "python",
   "name": "python3"
  },
  "language_info": {
   "codemirror_mode": {
    "name": "ipython",
    "version": 3
   },
   "file_extension": ".py",
   "mimetype": "text/x-python",
   "name": "python",
   "nbconvert_exporter": "python",
   "pygments_lexer": "ipython3",
   "version": "3.4.3"
  }
 },
 "nbformat": 4,
 "nbformat_minor": 2
}
